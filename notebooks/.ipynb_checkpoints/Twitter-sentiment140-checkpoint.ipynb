{
 "cells": [
  {
   "cell_type": "markdown",
   "id": "1667cd57",
   "metadata": {
    "id": "1667cd57"
   },
   "source": [
    "# Natural Language Processing : Avoid Overfitting with pre-defined Embeddings and CNN\n",
    "\n",
    "\n",
    "#### We will use the sentiment140 dataset.\n",
    "\n",
    "#### The dataset represents 1,600,000 tweets extracted using the twitter API. The tweets have been annotated (0 = negative, 4 = positive) and they can be used to detect sentiment.\n",
    "\n",
    "##### It contains the following 6 fields:\n",
    "\n",
    "*   target: the polarity of the tweet (0 = negative, 4 = positive)\n",
    "\n",
    "*   ids: The id of the tweet ( 2087)\n",
    "\n",
    "*   date: the date of the tweet (Sat May 16 23:58:44 UTC 2009)\n",
    "\n",
    "*   flag: The query (lyx). If there is no query, then this value is NO_QUERY.\n",
    "\n",
    "*   user: the user that tweeted (robotickilldozr)\n",
    "\n",
    "*   text: the text of the tweet (Lyx is cool)\n",
    "\n",
    "\n",
    "**Raw data should be stored in the `data` -> `raw` directory of the Git repository.**\n",
    "\n",
    "**All scripts used to transform raw data into features for modeling and scripts for the model are located in the `feature` and `model directory`, but will be displayed in the notebook for all to see.**\n",
    "\n",
    "**Variable documentation can be found in the `reference` directory.**\n"
   ]
  },
  {
   "cell_type": "code",
   "execution_count": 1,
   "id": "13da04ee",
   "metadata": {
    "id": "13da04ee"
   },
   "outputs": [
    {
     "name": "stderr",
     "output_type": "stream",
     "text": [
      "2023-10-11 18:56:41.923284: I tensorflow/core/platform/cpu_feature_guard.cc:182] This TensorFlow binary is optimized to use available CPU instructions in performance-critical operations.\n",
      "To enable the following instructions: AVX2 FMA, in other operations, rebuild TensorFlow with the appropriate compiler flags.\n"
     ]
    }
   ],
   "source": [
    "import os\n",
    "import warnings\n",
    "import random\n",
    "# Suppress TensorFlow warnings\n",
    "warnings.filterwarnings(\"ignore\", category=FutureWarning)\n",
    "warnings.filterwarnings(\"ignore\", category=DeprecationWarning)\n",
    "import pandas as pd\n",
    "import numpy as np\n",
    "import matplotlib.pyplot as plt\n",
    "import tensorflow as tf\n",
    "from tensorflow.keras.preprocessing.text import Tokenizer\n",
    "from tensorflow.keras.preprocessing.sequence import pad_sequences\n",
    "from scipy.stats import linregress"
   ]
  },
  {
   "cell_type": "markdown",
   "id": "598ac3bf",
   "metadata": {},
   "source": [
    "**The dataset is too large even with Git LFS, so I encourage the reader of this notebook to download the csv [here](https://www.kaggle.com/datasets/kazanova/sentiment140) beforehand.**"
   ]
  },
  {
   "cell_type": "code",
   "execution_count": 2,
   "id": "9rlOmNCGvt2a",
   "metadata": {
    "colab": {
     "base_uri": "https://localhost:8080/"
    },
    "id": "9rlOmNCGvt2a",
    "outputId": "16faa878-f671-4bc4-e76f-4a6fd595afe0"
   },
   "outputs": [],
   "source": [
    "file_path = '/Users/eudes/Documents/Portfolio/Twitter-sentiment140/data/raw/training.1600000.processed.noemoticon.csv'"
   ]
  },
  {
   "cell_type": "code",
   "execution_count": 3,
   "id": "9169ee2b",
   "metadata": {},
   "outputs": [],
   "source": [
    "def read_sentiment140_csv(file_path):\n",
    "    \"\"\"\n",
    "    Read the Sentiment140 dataset from a CSV file and preprocess it.\n",
    "\n",
    "    Parameters:\n",
    "    - file_path (str): The path to the CSV file containing the dataset.\n",
    "\n",
    "    Returns:\n",
    "    - pd.DataFrame: A DataFrame containing the Sentiment140 dataset with labels modified.\n",
    "    \"\"\"\n",
    "    df = pd.read_csv(file_path, delimiter=\",\", header=None, encoding='latin-1')\n",
    "\n",
    "    # Create a DataFrame with modified labels\n",
    "    df = df[[0, 5]].rename(columns={0: 'labels', 5: 'sentences'})\n",
    "    df['labels'] = np.where(df['labels'] == 4, 1, df['labels'])\n",
    "\n",
    "    return df"
   ]
  },
  {
   "cell_type": "code",
   "execution_count": 4,
   "id": "f9651f83",
   "metadata": {
    "id": "f9651f83",
    "scrolled": false
   },
   "outputs": [],
   "source": [
    "df = read_sentiment140_csv(file_path)"
   ]
  },
  {
   "cell_type": "code",
   "execution_count": 5,
   "id": "6e0a17de",
   "metadata": {},
   "outputs": [
    {
     "data": {
      "text/html": [
       "<div>\n",
       "<style scoped>\n",
       "    .dataframe tbody tr th:only-of-type {\n",
       "        vertical-align: middle;\n",
       "    }\n",
       "\n",
       "    .dataframe tbody tr th {\n",
       "        vertical-align: top;\n",
       "    }\n",
       "\n",
       "    .dataframe thead th {\n",
       "        text-align: right;\n",
       "    }\n",
       "</style>\n",
       "<table border=\"1\" class=\"dataframe\">\n",
       "  <thead>\n",
       "    <tr style=\"text-align: right;\">\n",
       "      <th></th>\n",
       "      <th>labels</th>\n",
       "      <th>sentences</th>\n",
       "    </tr>\n",
       "  </thead>\n",
       "  <tbody>\n",
       "    <tr>\n",
       "      <th>0</th>\n",
       "      <td>0</td>\n",
       "      <td>@switchfoot http://twitpic.com/2y1zl - Awww, t...</td>\n",
       "    </tr>\n",
       "    <tr>\n",
       "      <th>1</th>\n",
       "      <td>0</td>\n",
       "      <td>is upset that he can't update his Facebook by ...</td>\n",
       "    </tr>\n",
       "    <tr>\n",
       "      <th>2</th>\n",
       "      <td>0</td>\n",
       "      <td>@Kenichan I dived many times for the ball. Man...</td>\n",
       "    </tr>\n",
       "    <tr>\n",
       "      <th>3</th>\n",
       "      <td>0</td>\n",
       "      <td>my whole body feels itchy and like its on fire</td>\n",
       "    </tr>\n",
       "    <tr>\n",
       "      <th>4</th>\n",
       "      <td>0</td>\n",
       "      <td>@nationwideclass no, it's not behaving at all....</td>\n",
       "    </tr>\n",
       "    <tr>\n",
       "      <th>5</th>\n",
       "      <td>0</td>\n",
       "      <td>@Kwesidei not the whole crew</td>\n",
       "    </tr>\n",
       "    <tr>\n",
       "      <th>6</th>\n",
       "      <td>0</td>\n",
       "      <td>Need a hug</td>\n",
       "    </tr>\n",
       "    <tr>\n",
       "      <th>7</th>\n",
       "      <td>0</td>\n",
       "      <td>@LOLTrish hey  long time no see! Yes.. Rains a...</td>\n",
       "    </tr>\n",
       "    <tr>\n",
       "      <th>8</th>\n",
       "      <td>0</td>\n",
       "      <td>@Tatiana_K nope they didn't have it</td>\n",
       "    </tr>\n",
       "    <tr>\n",
       "      <th>9</th>\n",
       "      <td>0</td>\n",
       "      <td>@twittera que me muera ?</td>\n",
       "    </tr>\n",
       "  </tbody>\n",
       "</table>\n",
       "</div>"
      ],
      "text/plain": [
       "   labels                                          sentences\n",
       "0       0  @switchfoot http://twitpic.com/2y1zl - Awww, t...\n",
       "1       0  is upset that he can't update his Facebook by ...\n",
       "2       0  @Kenichan I dived many times for the ball. Man...\n",
       "3       0    my whole body feels itchy and like its on fire \n",
       "4       0  @nationwideclass no, it's not behaving at all....\n",
       "5       0                      @Kwesidei not the whole crew \n",
       "6       0                                        Need a hug \n",
       "7       0  @LOLTrish hey  long time no see! Yes.. Rains a...\n",
       "8       0               @Tatiana_K nope they didn't have it \n",
       "9       0                          @twittera que me muera ? "
      ]
     },
     "execution_count": 5,
     "metadata": {},
     "output_type": "execute_result"
    }
   ],
   "source": [
    "df.head(10)"
   ]
  },
  {
   "cell_type": "code",
   "execution_count": 6,
   "id": "440a3d28",
   "metadata": {
    "colab": {
     "base_uri": "https://localhost:8080/"
    },
    "id": "440a3d28",
    "outputId": "31dc0035-bd1b-473c-b52a-fbabebe0cfec"
   },
   "outputs": [
    {
     "name": "stdout",
     "output_type": "stream",
     "text": [
      "labels\n",
      "0    800000\n",
      "1    800000\n",
      "Name: count, dtype: int64\n"
     ]
    }
   ],
   "source": [
    "print(df['labels'].value_counts()) # Balanced"
   ]
  },
  {
   "cell_type": "code",
   "execution_count": 7,
   "id": "15355a5e",
   "metadata": {},
   "outputs": [],
   "source": [
    "def extract_sentences_and_labels(df):\n",
    "    \"\"\"\n",
    "    Extract sentences and labels from a DataFrame.\n",
    "\n",
    "    Parameters:\n",
    "    - df (pd.DataFrame): The DataFrame containing sentences and labels.\n",
    "\n",
    "    Returns:\n",
    "    - list: A list of sentences.\n",
    "    - list: A list of labels.\n",
    "    \"\"\"\n",
    "    sentences = list(df['sentences'])\n",
    "    labels = list(df['labels'])\n",
    "    return sentences, labels"
   ]
  },
  {
   "cell_type": "code",
   "execution_count": 8,
   "id": "fce249c2",
   "metadata": {},
   "outputs": [],
   "source": [
    "sentences, labels = extract_sentences_and_labels(df)"
   ]
  },
  {
   "cell_type": "code",
   "execution_count": 9,
   "id": "24c141f6",
   "metadata": {
    "colab": {
     "base_uri": "https://localhost:8080/"
    },
    "id": "24c141f6",
    "outputId": "76bd9a08-869c-4eff-ce34-ae19c60e4653"
   },
   "outputs": [
    {
     "name": "stdout",
     "output_type": "stream",
     "text": [
      "dataset contains 1600000 examples\n",
      "\n",
      "Text of second example look like this:\n",
      "is upset that he can't update his Facebook by texting it... and might cry as a result  School today also. Blah!\n",
      "\n",
      "Text of fourth example look like this:\n",
      "my whole body feels itchy and like its on fire \n",
      "\n",
      "Labels of last 5 examples look like this:\n",
      "[1, 1, 1, 1, 1]\n"
     ]
    }
   ],
   "source": [
    "print(f\"dataset contains {len(sentences)} examples\\n\")\n",
    "\n",
    "print(f\"Text of second example look like this:\\n{sentences[1]}\\n\")\n",
    "print(f\"Text of fourth example look like this:\\n{sentences[3]}\")\n",
    "\n",
    "print(f\"\\nLabels of last 5 examples look like this:\\n{labels[-5:]}\")"
   ]
  },
  {
   "cell_type": "markdown",
   "id": "1e23a51a",
   "metadata": {},
   "source": [
    "### The database is large, so we'll randomly select 10% of it for our project, and split 90% for our training set"
   ]
  },
  {
   "cell_type": "code",
   "execution_count": 10,
   "id": "80bc0cf7",
   "metadata": {},
   "outputs": [],
   "source": [
    "def split_data_randomly(sentences, labels, sample_size=0.1, training_size=0.9, random_seed=42):\n",
    "    \"\"\"\n",
    "    Randomly split data into training and testing sets after taking 10% as a random sample.\n",
    "\n",
    "    Parameters:\n",
    "    - sentences (list): List of sentences.\n",
    "    - labels (list): List of labels corresponding to the sentences.\n",
    "    - sample_size (float, optional): Fraction of data to be used for sampling (default: 0.1).\n",
    "    - training_size (float): Fraction of data to be used for training (default: 0.9).\n",
    "    - random_seed (int): Random seed for reproducibility (default: 42).\n",
    "\n",
    "    Returns:\n",
    "    - tuple: A tuple containing the following:\n",
    "        - train_sentences: Training sentences.\n",
    "        - val_sentences: Testing sentences.\n",
    "        - train_labels: Training labels.\n",
    "        - val_labels: Testing labels.\n",
    "    \"\"\"\n",
    "    random.seed(random_seed)\n",
    "    \n",
    "    # Randomly select 10% of data as a random sample\n",
    "    num_samples = int(len(sentences) * sample_size)\n",
    "    sentences_labels_zip = list(zip(sentences, labels))\n",
    "    sentences_labels_zip = random.sample(sentences_labels_zip, num_samples)\n",
    "    sentences, labels = zip(*sentences_labels_zip)\n",
    "\n",
    "    \n",
    "    # Split the remaining data into training and testing sets\n",
    "    training_size = int(len(sentences)*0.9)\n",
    "    \n",
    "    train_sentences = sentences[:training_size]\n",
    "    val_sentences = sentences[training_size:]\n",
    "    \n",
    "    train_labels = labels[:training_size]\n",
    "    val_labels = labels[training_size:]\n",
    "\n",
    "    return train_sentences, val_sentences, train_labels, val_labels"
   ]
  },
  {
   "cell_type": "code",
   "execution_count": 11,
   "id": "d76d0c55",
   "metadata": {},
   "outputs": [],
   "source": [
    "train_sentences, val_sentences, train_labels, val_labels = split_data_randomly(sentences, labels, sample_size=0.1, training_size=0.9, random_seed=42)"
   ]
  },
  {
   "cell_type": "code",
   "execution_count": 12,
   "id": "b8c342a1",
   "metadata": {
    "colab": {
     "base_uri": "https://localhost:8080/"
    },
    "id": "b8c342a1",
    "outputId": "a90ae251-e22f-4d77-c8f9-03d42af3bfde"
   },
   "outputs": [
    {
     "name": "stdout",
     "output_type": "stream",
     "text": [
      "There are 144000 sentences for training.\n",
      "\n",
      "There are 144000 labels for training.\n",
      "\n",
      "There are 16000 sentences for validation.\n",
      "\n",
      "There are 16000 labels for validation.\n"
     ]
    }
   ],
   "source": [
    "print(f\"There are {len(train_sentences)} sentences for training.\\n\")\n",
    "print(f\"There are {len(train_labels)} labels for training.\\n\")\n",
    "print(f\"There are {len(val_sentences)} sentences for validation.\\n\")\n",
    "print(f\"There are {len(val_labels)} labels for validation.\")"
   ]
  },
  {
   "cell_type": "markdown",
   "id": "792402e9",
   "metadata": {
    "id": "792402e9"
   },
   "source": [
    "### DATA PREPROCESSING (Tokeninzing & padding)\n",
    "Next, we will generate the vocabulary and padded sequences."
   ]
  },
  {
   "cell_type": "code",
   "execution_count": 13,
   "id": "a0f5b1c3",
   "metadata": {
    "id": "a0f5b1c3"
   },
   "outputs": [],
   "source": [
    "#Set parameters now (easy tuning)\n",
    "EMBEDDING_DIM = 100\n",
    "MAXLEN = 16\n",
    "TRUNCATING = 'post'\n",
    "PADDING = 'post'\n",
    "OOV_TOKEN = \"<OOV>\"\n",
    "MAX_EXAMPLES = 160000"
   ]
  },
  {
   "cell_type": "code",
   "execution_count": 14,
   "id": "c0b43103",
   "metadata": {},
   "outputs": [],
   "source": [
    "def fit_tokenizer(train_sentences, val_sentences, train_labels, val_labels, \n",
    "                  max_len=16, padding_type='post', truncating_type='post', oov_token='<OOV_TOKEN>'):\n",
    "    \"\"\"\n",
    "    Fit a tokenizer and preprocess text data, including tokenization and padding.\n",
    "\n",
    "    Parameters:\n",
    "    - train_sentences (list): List of training sentences.\n",
    "    - val_sentences (list): List of validation sentences.\n",
    "    - train_labels (list or np.ndarray): List or numpy array of training labels.\n",
    "    - val_labels (list or np.ndarray): List or numpy array of validation labels.\n",
    "    - max_len (int): Maximum sequence length.\n",
    "    - padding_type (str): Type of padding ('pre' or 'post', default: 'post').\n",
    "    - truncating_type (str): Type of truncating ('pre' or 'post', default: 'post').\n",
    "    - oov_token (str): Token to represent out-of-vocabulary words (default: '<OOV_TOKEN>').\n",
    "\n",
    "    Returns:\n",
    "    - tuple: A tuple containing the following:\n",
    "        - np.ndarray: Padded training sequences.\n",
    "        - np.ndarray: Padded validation sequences.\n",
    "        - np.ndarray: Numpy array of training labels.\n",
    "        - np.ndarray: Numpy array of validation labels.\n",
    "        - dict: Word index dictionary.\n",
    "        - Tokenizer: Tokenizer object.\n",
    "    \"\"\"\n",
    "    tokenizer = Tokenizer(oov_token=oov_token)\n",
    "    \n",
    "    # Generate the word index dictionary\n",
    "    tokenizer.fit_on_texts(train_sentences)\n",
    "    word_index = tokenizer.word_index\n",
    "    \n",
    "    # Generate and pad the training sequences\n",
    "    train_sequences = tokenizer.texts_to_sequences(train_sentences)\n",
    "    train_padded = pad_sequences(train_sequences, maxlen=max_len, padding=padding_type, truncating=truncating_type)\n",
    "    \n",
    "    # Generate and pad the validation sequences\n",
    "    val_sequences = tokenizer.texts_to_sequences(val_sentences)\n",
    "    val_padded = pad_sequences(val_sequences, maxlen=max_len, padding=padding_type, truncating=truncating_type)\n",
    "    \n",
    "    # Convert the labels lists into numpy arrays\n",
    "    train_labels = np.array(train_labels)\n",
    "    val_labels = np.array(val_labels)\n",
    "    \n",
    "    return train_padded, val_padded, train_labels, val_labels, word_index, tokenizer"
   ]
  },
  {
   "cell_type": "code",
   "execution_count": 15,
   "id": "0cf36025",
   "metadata": {},
   "outputs": [],
   "source": [
    "train_padded, val_padded, train_labels, val_labels, word_index, tokenizer = fit_tokenizer(train_sentences, \n",
    "                                                                                          val_sentences, \n",
    "                                                                                          train_labels, \n",
    "                                                                                          val_labels)"
   ]
  },
  {
   "cell_type": "code",
   "execution_count": 16,
   "id": "1f287b55",
   "metadata": {
    "colab": {
     "base_uri": "https://localhost:8080/"
    },
    "id": "1f287b55",
    "outputId": "504fbea0-f9c8-4e33-ff06-808ac8f6941d"
   },
   "outputs": [
    {
     "name": "stdout",
     "output_type": "stream",
     "text": [
      "Vocabulary contains 128293 words\n",
      "\n",
      "<OOV> token NOT included in vocabulary\n"
     ]
    }
   ],
   "source": [
    "VOCAB_SIZE = len(word_index)\n",
    "\n",
    "print(f\"Vocabulary contains {VOCAB_SIZE} words\\n\")\n",
    "print(\"<OOV> token included in vocabulary\" if \"<OOV>\" in word_index else \"<OOV> token NOT included in vocabulary\")"
   ]
  },
  {
   "cell_type": "code",
   "execution_count": 17,
   "id": "8407e4a8",
   "metadata": {
    "colab": {
     "base_uri": "https://localhost:8080/"
    },
    "id": "8407e4a8",
    "outputId": "e8232005-9e8a-4f85-8b5c-0868d92126c0"
   },
   "outputs": [
    {
     "name": "stdout",
     "output_type": "stream",
     "text": [
      "Padded and truncated training sequences have shape: (144000, 16)\n",
      "\n",
      "Padded and truncated validation sequences have shape: (16000, 16)\n"
     ]
    }
   ],
   "source": [
    "print(f\"Padded and truncated training sequences have shape: {train_padded.shape}\\n\")\n",
    "print(f\"Padded and truncated validation sequences have shape: {val_padded.shape}\")"
   ]
  },
  {
   "cell_type": "markdown",
   "id": "af0c18c0",
   "metadata": {
    "id": "af0c18c0"
   },
   "source": [
    "# Pre-defined Embeddings\n",
    "We will be using the 100 dimension version of [GloVe](https://nlp.stanford.edu/projects/glove/) from Stanford. \n",
    "These word vectors are pre-trained on extensive text data and will be useful for our task.\n",
    "\n",
    "##### The Glove text file should be located in the `external` folder within the `data` directory of the project's structure but, because of its size Git cannot supporte it. I invite readers of this notebook to download [the 6B version here](https://nlp.stanford.edu/projects/glove/)"
   ]
  },
  {
   "cell_type": "code",
   "execution_count": 18,
   "id": "6f95eacd",
   "metadata": {},
   "outputs": [],
   "source": [
    "GLOVE_FILE = '/Users/eudes/Documents/Portfolio/Twitter-sentiment140/data/external/glove.6B.100d.txt'"
   ]
  },
  {
   "cell_type": "code",
   "execution_count": 19,
   "id": "c55465ad",
   "metadata": {},
   "outputs": [],
   "source": [
    "def load_glove_embeddings(GLOVE_FILE, word_index, VOCAB_SIZE, EMBEDDING_DIM):\n",
    "    \"\"\"\n",
    "    Load pre-trained GloVe word embeddings and create an embeddings matrix.\n",
    "\n",
    "    Parameters:\n",
    "    - GLOVE_FILE (str): Path to the GloVe word vectors file.\n",
    "    - word_index (dict): Dictionary mapping words to their indices in the vocabulary.\n",
    "    - VOCAB_SIZE (int): Size of the vocabulary.\n",
    "    - EMBEDDING_DIM (int): Dimension of the word embeddings.\n",
    "\n",
    "    Returns:\n",
    "    - tuple: A tuple containing two elements:\n",
    "        - GLOVE_EMBEDDINGS (dict): A dictionary containing GloVe word embeddings.\n",
    "        - EMBEDDINGS_MATRIX: An embeddings matrix containing word embeddings for the vocabulary.\n",
    "    \"\"\"\n",
    "    # Initialize an empty embeddings index dictionary\n",
    "    GLOVE_EMBEDDINGS = {}\n",
    "\n",
    "    # Read the GloVe file and fill glove_embeddings with its contents\n",
    "    with open(GLOVE_FILE) as f:\n",
    "        for line in f:\n",
    "            values = line.split()\n",
    "            word = values[0]\n",
    "            coefs = np.asarray(values[1:], dtype='float32')\n",
    "            GLOVE_EMBEDDINGS[word] = coefs\n",
    "\n",
    "    # Initialize an empty numpy array with the appropriate size\n",
    "    EMBEDDINGS_MATRIX = np.zeros((VOCAB_SIZE + 1, EMBEDDING_DIM))\n",
    "\n",
    "    # Iterate all words in the vocabulary and save GloVe embeddings in the matrix\n",
    "    for word, i in word_index.items():\n",
    "        embedding_vector = GLOVE_EMBEDDINGS.get(word)\n",
    "        if embedding_vector is not None:\n",
    "            EMBEDDINGS_MATRIX[i] = embedding_vector\n",
    "\n",
    "    return GLOVE_EMBEDDINGS, EMBEDDINGS_MATRIX"
   ]
  },
  {
   "cell_type": "code",
   "execution_count": 20,
   "id": "fa738893",
   "metadata": {
    "colab": {
     "base_uri": "https://localhost:8080/"
    },
    "id": "fa738893",
    "outputId": "74521bce-bc57-49d4-abae-a93f7292578b"
   },
   "outputs": [
    {
     "name": "stdout",
     "output_type": "stream",
     "text": [
      "Embedding vector for 'guitar': [-0.36918    0.6997    -0.044431  -0.93855    0.76038    0.67506\n",
      "  0.038351  -0.097795  -0.62321   -0.13562    0.16266   -0.79222\n",
      " -0.59344    0.45988    0.12299   -0.063218   0.067302  -0.29527\n",
      "  0.71264    0.34195    0.20494   -0.59688    0.47401   -0.18386\n",
      "  0.5241     0.19029   -0.74126   -0.24884    1.1619     0.97649\n",
      " -0.91414    0.39751   -0.26795    0.39088   -0.64415   -0.32558\n",
      "  0.086841   0.17191    0.56155   -1.0416     0.40924    0.075273\n",
      "  0.30653    0.5529    -0.76978    0.35365   -0.27148   -0.3274\n",
      "  0.45099   -1.0011    -0.96912    0.13217   -0.50068   -0.096093\n",
      "  0.52369   -2.0897    -0.40086   -0.0040273  0.20697    1.1286\n",
      "  1.191      0.71676   -0.31017    0.12596   -0.14615   -0.86376\n",
      "  0.68761   -0.21523   -0.10506   -0.18169   -0.58514    0.91307\n",
      "  0.41307   -0.22268   -0.10142   -0.17575    0.36836    0.26278\n",
      "  1.1609    -0.19914    0.36047   -0.63631    0.26283   -0.38601\n",
      " -0.86987    0.5071     0.23742   -1.0582    -0.69611    0.068304\n",
      " -0.91402    0.054357  -0.25864    0.099061   0.35682    0.061406\n",
      " -1.7777    -0.95001    1.1103    -0.089088 ]\n"
     ]
    }
   ],
   "source": [
    "GLOVE_EMBEDDINGS, EMBEDDINGS_MATRIX = load_glove_embeddings(GLOVE_FILE, word_index, VOCAB_SIZE=len(word_index), EMBEDDING_DIM=100 )\n",
    "\n",
    "# Example word to look up\n",
    "test_word = 'guitar'\n",
    "\n",
    "# Check if the word is in the glove_embeddings dictionary\n",
    "if test_word in GLOVE_EMBEDDINGS:\n",
    "    test_vector = GLOVE_EMBEDDINGS[test_word]\n",
    "    print(f\"Embedding vector for '{test_word}': {test_vector}\")\n",
    "else:\n",
    "    print(f\"'{test_word}' not found in GloVe embeddings.\")"
   ]
  },
  {
   "cell_type": "code",
   "execution_count": 21,
   "id": "64a02500",
   "metadata": {
    "colab": {
     "base_uri": "https://localhost:8080/"
    },
    "id": "64a02500",
    "outputId": "b4326353-3e21-4795-ec35-05cc46ae7e42"
   },
   "outputs": [
    {
     "name": "stdout",
     "output_type": "stream",
     "text": [
      "128294\n",
      "128293\n"
     ]
    }
   ],
   "source": [
    "print(len(EMBEDDINGS_MATRIX))\n",
    "print(VOCAB_SIZE)"
   ]
  },
  {
   "cell_type": "markdown",
   "id": "d2119606",
   "metadata": {
    "id": "d2119606"
   },
   "source": [
    "## Build and Compile the Model\n",
    "\n",
    "We include one `Dropout` layer to mitigate overfitting."
   ]
  },
  {
   "cell_type": "code",
   "execution_count": 22,
   "id": "b09aac4d",
   "metadata": {},
   "outputs": [],
   "source": [
    "def text_classification_model(VOCAB_SIZE, EMBEDDING_DIM, MAXLEN, EMBEDDINGS_MATRIX):\n",
    "    \"\"\"\n",
    "    Create a text classification model using Keras.\n",
    "\n",
    "    Parameters:\n",
    "    - VOCAB_SIZE (int): Size of the vocabulary.\n",
    "    - EMBEDDING_DIM (int): Dimension of the word embeddings.\n",
    "    - MAXLEN (int): Maximum sequence length.\n",
    "    - EMBEDDINGS_MATRIX (numpy.ndarray): Embeddings matrix for the vocabulary.\n",
    "\n",
    "    Returns:\n",
    "    - tf.keras.models.Model: A text classification model.\n",
    "    \"\"\"\n",
    "    model = tf.keras.Sequential([\n",
    "        tf.keras.layers.Embedding(VOCAB_SIZE + 1, EMBEDDING_DIM, input_length=MAXLEN, weights=[EMBEDDINGS_MATRIX], trainable=False),\n",
    "        tf.keras.layers.Dropout(0.2),\n",
    "        tf.keras.layers.Conv1D(64, 5, activation='relu'),\n",
    "        tf.keras.layers.MaxPooling1D(pool_size=4),\n",
    "        tf.keras.layers.LSTM(64),\n",
    "        tf.keras.layers.Dense(1, activation='sigmoid')\n",
    "    ])\n",
    "\n",
    "    model.compile(loss='binary_crossentropy',\n",
    "                  optimizer='adam',\n",
    "                  metrics=['accuracy'])\n",
    "\n",
    "    return model"
   ]
  },
  {
   "cell_type": "code",
   "execution_count": 23,
   "id": "d53fcb40",
   "metadata": {},
   "outputs": [
    {
     "name": "stdout",
     "output_type": "stream",
     "text": [
      "Model: \"sequential\"\n",
      "_________________________________________________________________\n",
      " Layer (type)                Output Shape              Param #   \n",
      "=================================================================\n",
      " embedding (Embedding)       (None, 16, 100)           12829400  \n",
      "                                                                 \n",
      " dropout (Dropout)           (None, 16, 100)           0         \n",
      "                                                                 \n",
      " conv1d (Conv1D)             (None, 12, 64)            32064     \n",
      "                                                                 \n",
      " max_pooling1d (MaxPooling1  (None, 3, 64)             0         \n",
      " D)                                                              \n",
      "                                                                 \n",
      " lstm (LSTM)                 (None, 64)                33024     \n",
      "                                                                 \n",
      " dense (Dense)               (None, 1)                 65        \n",
      "                                                                 \n",
      "=================================================================\n",
      "Total params: 12894553 (49.19 MB)\n",
      "Trainable params: 65153 (254.50 KB)\n",
      "Non-trainable params: 12829400 (48.94 MB)\n",
      "_________________________________________________________________\n"
     ]
    }
   ],
   "source": [
    "model = text_classification_model(VOCAB_SIZE, EMBEDDING_DIM, MAXLEN, EMBEDDINGS_MATRIX)\n",
    "model.summary()"
   ]
  },
  {
   "cell_type": "code",
   "execution_count": 24,
   "id": "96b0f25a",
   "metadata": {
    "colab": {
     "base_uri": "https://localhost:8080/"
    },
    "id": "96b0f25a",
    "outputId": "93055f9a-bfee-44d4-dcc6-0dddf4175ac2",
    "scrolled": false
   },
   "outputs": [
    {
     "name": "stdout",
     "output_type": "stream",
     "text": [
      "Epoch 1/30\n",
      "4500/4500 [==============================] - 34s 7ms/step - loss: 0.5678 - accuracy: 0.6985 - val_loss: 0.5233 - val_accuracy: 0.7359\n",
      "Epoch 2/30\n",
      "4500/4500 [==============================] - 30s 7ms/step - loss: 0.5277 - accuracy: 0.7323 - val_loss: 0.5188 - val_accuracy: 0.7417\n",
      "Epoch 3/30\n",
      "4500/4500 [==============================] - 29s 7ms/step - loss: 0.5103 - accuracy: 0.7431 - val_loss: 0.5110 - val_accuracy: 0.7449\n",
      "Epoch 4/30\n",
      "4500/4500 [==============================] - 30s 7ms/step - loss: 0.4988 - accuracy: 0.7510 - val_loss: 0.4978 - val_accuracy: 0.7546\n",
      "Epoch 5/30\n",
      "4500/4500 [==============================] - 31s 7ms/step - loss: 0.4909 - accuracy: 0.7577 - val_loss: 0.4979 - val_accuracy: 0.7554\n",
      "Epoch 6/30\n",
      "4500/4500 [==============================] - 32s 7ms/step - loss: 0.4836 - accuracy: 0.7618 - val_loss: 0.5086 - val_accuracy: 0.7483\n",
      "Epoch 7/30\n",
      "4500/4500 [==============================] - 31s 7ms/step - loss: 0.4779 - accuracy: 0.7659 - val_loss: 0.5016 - val_accuracy: 0.7548\n",
      "Epoch 8/30\n",
      "4500/4500 [==============================] - 33s 7ms/step - loss: 0.4733 - accuracy: 0.7688 - val_loss: 0.5085 - val_accuracy: 0.7567\n",
      "Epoch 9/30\n",
      "4500/4500 [==============================] - 35s 8ms/step - loss: 0.4685 - accuracy: 0.7721 - val_loss: 0.5004 - val_accuracy: 0.7571\n",
      "Epoch 10/30\n",
      "4500/4500 [==============================] - 45s 10ms/step - loss: 0.4657 - accuracy: 0.7726 - val_loss: 0.5007 - val_accuracy: 0.7592\n",
      "Epoch 11/30\n",
      "4500/4500 [==============================] - 46s 10ms/step - loss: 0.4614 - accuracy: 0.7764 - val_loss: 0.5120 - val_accuracy: 0.7566\n",
      "Epoch 12/30\n",
      "4500/4500 [==============================] - 44s 10ms/step - loss: 0.4586 - accuracy: 0.7779 - val_loss: 0.5040 - val_accuracy: 0.7561\n",
      "Epoch 13/30\n",
      "4500/4500 [==============================] - 44s 10ms/step - loss: 0.4553 - accuracy: 0.7804 - val_loss: 0.5071 - val_accuracy: 0.7533\n",
      "Epoch 14/30\n",
      "4500/4500 [==============================] - 44s 10ms/step - loss: 0.4528 - accuracy: 0.7818 - val_loss: 0.5078 - val_accuracy: 0.7559\n",
      "Epoch 15/30\n",
      "4500/4500 [==============================] - 35s 8ms/step - loss: 0.4515 - accuracy: 0.7819 - val_loss: 0.5106 - val_accuracy: 0.7599\n",
      "Epoch 16/30\n",
      "4500/4500 [==============================] - 47s 10ms/step - loss: 0.4509 - accuracy: 0.7827 - val_loss: 0.5077 - val_accuracy: 0.7595\n",
      "Epoch 17/30\n",
      "4500/4500 [==============================] - 45s 10ms/step - loss: 0.4474 - accuracy: 0.7855 - val_loss: 0.5095 - val_accuracy: 0.7540\n",
      "Epoch 18/30\n",
      "4500/4500 [==============================] - 42s 9ms/step - loss: 0.4469 - accuracy: 0.7848 - val_loss: 0.5137 - val_accuracy: 0.7520\n",
      "Epoch 19/30\n",
      "4500/4500 [==============================] - 46s 10ms/step - loss: 0.4446 - accuracy: 0.7862 - val_loss: 0.5052 - val_accuracy: 0.7581\n",
      "Epoch 20/30\n",
      "4500/4500 [==============================] - 53s 12ms/step - loss: 0.4438 - accuracy: 0.7869 - val_loss: 0.5113 - val_accuracy: 0.7539\n",
      "Epoch 21/30\n",
      "4500/4500 [==============================] - 52s 12ms/step - loss: 0.4418 - accuracy: 0.7877 - val_loss: 0.5129 - val_accuracy: 0.7549\n",
      "Epoch 22/30\n",
      "4500/4500 [==============================] - 62s 14ms/step - loss: 0.4406 - accuracy: 0.7889 - val_loss: 0.5159 - val_accuracy: 0.7546\n",
      "Epoch 23/30\n",
      "4500/4500 [==============================] - 50s 11ms/step - loss: 0.4404 - accuracy: 0.7895 - val_loss: 0.5174 - val_accuracy: 0.7540\n",
      "Epoch 24/30\n",
      "4500/4500 [==============================] - 45s 10ms/step - loss: 0.4399 - accuracy: 0.7897 - val_loss: 0.5156 - val_accuracy: 0.7545\n",
      "Epoch 25/30\n",
      "4500/4500 [==============================] - 41s 9ms/step - loss: 0.4367 - accuracy: 0.7916 - val_loss: 0.5112 - val_accuracy: 0.7551\n",
      "Epoch 26/30\n",
      "4500/4500 [==============================] - 46s 10ms/step - loss: 0.4377 - accuracy: 0.7905 - val_loss: 0.5193 - val_accuracy: 0.7547\n",
      "Epoch 27/30\n",
      "4500/4500 [==============================] - 39s 9ms/step - loss: 0.4372 - accuracy: 0.7915 - val_loss: 0.5195 - val_accuracy: 0.7513\n",
      "Epoch 28/30\n",
      "4500/4500 [==============================] - 36s 8ms/step - loss: 0.4361 - accuracy: 0.7919 - val_loss: 0.5205 - val_accuracy: 0.7516\n",
      "Epoch 29/30\n",
      "4500/4500 [==============================] - 54s 12ms/step - loss: 0.4342 - accuracy: 0.7934 - val_loss: 0.5233 - val_accuracy: 0.7524\n",
      "Epoch 30/30\n",
      "4500/4500 [==============================] - 44s 10ms/step - loss: 0.4351 - accuracy: 0.7926 - val_loss: 0.5239 - val_accuracy: 0.7505\n"
     ]
    }
   ],
   "source": [
    "history = model.fit(train_padded, train_labels ,epochs=30, validation_data=(val_padded, val_labels))"
   ]
  },
  {
   "cell_type": "markdown",
   "id": "kJ34QYSEkwXU",
   "metadata": {
    "id": "kJ34QYSEkwXU"
   },
   "source": [
    "Although a flat `val_loss` and a lowering `train_loss` (or just `loss`) also indicate some overfitting, what we really want to avoid is having a lowering `train_loss` and an increasing `val_loss`."
   ]
  },
  {
   "cell_type": "code",
   "execution_count": 25,
   "id": "989c8e18",
   "metadata": {
    "colab": {
     "base_uri": "https://localhost:8080/",
     "height": 927
    },
    "id": "989c8e18",
    "outputId": "95a1b1f2-9fc3-4d96-c50c-96c7a277be38"
   },
   "outputs": [
    {
     "data": {
      "image/png": "[encoded data removed]",
      "text/plain": [
       "<Figure size 640x480 with 1 Axes>"
      ]
     },
     "metadata": {},
     "output_type": "display_data"
    },
    {
     "data": {
      "image/png": "[encoded data removed]",
      "text/plain": [
       "<Figure size 640x480 with 1 Axes>"
      ]
     },
     "metadata": {},
     "output_type": "display_data"
    }
   ],
   "source": [
    "loss = history.history['loss']\n",
    "val_loss = history.history['val_loss']\n",
    "\n",
    "epochs = [*range(30)]\n",
    "\n",
    "#------------------------------------------------\n",
    "# Plot training and validation loss per epoch\n",
    "#------------------------------------------------\n",
    "plt.plot(epochs, loss, 'r')\n",
    "plt.plot(epochs, val_loss, 'b')\n",
    "plt.title('Training and validation loss')\n",
    "plt.xlabel(\"Epochs\")\n",
    "plt.ylabel(\"Loss\")\n",
    "plt.legend([\"Loss\", \"Validation Loss\"])\n",
    "plt.show()\n",
    "\n",
    "acc = history.history['accuracy']\n",
    "val_acc = history.history['val_accuracy']\n",
    "\n",
    "#------------------------------------------------\n",
    "# Plot training and validation accuracy per epoch\n",
    "#------------------------------------------------\n",
    "plt.plot(epochs, acc, 'r')\n",
    "plt.plot(epochs, val_acc, 'b')\n",
    "plt.title('Training and validation accuracy')\n",
    "plt.xlabel(\"Epochs\")\n",
    "plt.ylabel(\"Accuracy\")\n",
    "plt.legend([\"Accuracy\", \"Validation Accuracy\"])\n",
    "plt.show()"
   ]
  },
  {
   "cell_type": "code",
   "execution_count": 26,
   "id": "9f4a86fe",
   "metadata": {
    "colab": {
     "base_uri": "https://localhost:8080/"
    },
    "id": "9f4a86fe",
    "outputId": "6f5a41d6-9491-484d-dbb7-26fcc16352af"
   },
   "outputs": [
    {
     "name": "stdout",
     "output_type": "stream",
     "text": [
      "The slope of the validation loss curve is 0.00047\n"
     ]
    }
   ],
   "source": [
    "slope, *_ = linregress(epochs, val_loss)\n",
    "print(f\"The slope of the validation loss curve is {slope:.5f}\")"
   ]
  },
  {
   "cell_type": "markdown",
   "id": "6990ba7e",
   "metadata": {},
   "source": [
    "#### Finally, we save our model in the `models` section of the Git repository."
   ]
  },
  {
   "cell_type": "code",
   "execution_count": 27,
   "id": "6f01d4ee",
   "metadata": {},
   "outputs": [
    {
     "name": "stderr",
     "output_type": "stream",
     "text": [
      "/Users/eudes/anaconda3/lib/python3.11/site-packages/keras/src/engine/training.py:3079: UserWarning: You are saving your model as an HDF5 file via `model.save()`. This file format is considered legacy. We recommend using instead the native Keras format, e.g. `model.save('my_model.keras')`.\n",
      "  saving_api.save_model(\n"
     ]
    },
    {
     "name": "stdout",
     "output_type": "stream",
     "text": [
      "Model saved to '/Users/eudes/Documents/Portfolio/Twitter-sentiment140/models/text_cla_model.h5'\n"
     ]
    }
   ],
   "source": [
    "model_file_path = '/Users/eudes/Documents/Portfolio/Twitter-sentiment140/models/text_cla_model.h5'\n",
    "\n",
    "model.save(model_file_path)\n",
    "\n",
    "print(f\"Model saved to '{model_file_path}'\")"
   ]
  }
 ],
 "metadata": {
  "accelerator": "GPU",
  "colab": {
   "gpuType": "A100",
   "machine_shape": "hm",
   "provenance": []
  },
  "kernelspec": {
   "display_name": "Python 3 (ipykernel)",
   "language": "python",
   "name": "python3"
  },
  "language_info": {
   "codemirror_mode": {
    "name": "ipython",
    "version": 3
   },
   "file_extension": ".py",
   "mimetype": "text/x-python",
   "name": "python",
   "nbconvert_exporter": "python",
   "pygments_lexer": "ipython3",
   "version": "3.11.4"
  }
 },
 "nbformat": 4,
 "nbformat_minor": 5
}
